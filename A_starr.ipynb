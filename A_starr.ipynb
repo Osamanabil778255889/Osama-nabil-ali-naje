{
 "cells": [
  {
   "cell_type": "code",
   "execution_count": 18,
   "id": "dc3d5737",
   "metadata": {},
   "outputs": [
    {
     "name": "stdout",
     "output_type": "stream",
     "text": [
      "optimal path: [(0, 0), (0, 1), (1, 1), (2, 1)]\n"
     ]
    }
   ],
   "source": [
    "from heapq import heappop, heappush\n",
    "def heuristic(a, b):\n",
    "    return abs(a[0] - b[0]) + abs(a[1] - b[1])\n",
    "def a_star_search(graph, start, goal):\n",
    "    open_list = []\n",
    "    heappush(open_list, (0, start))\n",
    "    came_from = {}\n",
    "    came_from[start] = None\n",
    "    g_score = {}\n",
    "    g_score[start] = 0\n",
    "    while open_list:\n",
    "        current = heappop(open_list)[1]\n",
    "        if current == goal:\n",
    "            path = []\n",
    "            while current is not None:\n",
    "                path.append(current)\n",
    "                current = came_from[current]\n",
    "            path.reverse()\n",
    "            return path\n",
    "        for neighbor in graph[current]:\n",
    "            tentative_g_score = g_score[current] + graph[current][neighbor]\n",
    "            if neighbor not in g_score or tentative_g_score < g_score[neighbor]:\n",
    "                came_from[neighbor] = current\n",
    "                g_score[neighbor] = tentative_g_score\n",
    "                f_score = tentative_g_score + heuristic(neighbor, goal)\n",
    "                heappush(open_list, (f_score, neighbor))\n",
    "    return None\n",
    "\n",
    "graph = {\n",
    "    (0, 0): {(1, 0): 1, (0, 1): 1},\n",
    "    (1, 0): {(4, 1): 1, (0, 0): 1},\n",
    "    (0, 1): {(0, 0): 1, (1, 1): 1},\n",
    "    (1, 1): {(1, 0): 1, (0, 1): 1, (2, 1): 1},\n",
    "    (2, 1): {(1, 1): 1}\n",
    "}\n",
    "\n",
    "start = (0, 0)\n",
    "goal = (2, 1)\n",
    "path = a_star_search(graph, start, goal)\n",
    "print(\"optimal path:\", path)\n"
   ]
  },
  {
   "cell_type": "code",
   "execution_count": null,
   "id": "4bb4c2a1",
   "metadata": {},
   "outputs": [],
   "source": []
  }
 ],
 "metadata": {
  "kernelspec": {
   "display_name": "Python 3",
   "language": "python",
   "name": "python3"
  },
  "language_info": {
   "codemirror_mode": {
    "name": "ipython",
    "version": 3
   },
   "file_extension": ".py",
   "mimetype": "text/x-python",
   "name": "python",
   "nbconvert_exporter": "python",
   "pygments_lexer": "ipython3",
   "version": "3.8.8"
  }
 },
 "nbformat": 4,
 "nbformat_minor": 5
}
