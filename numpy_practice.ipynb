{
 "cells": [
  {
   "cell_type": "markdown",
   "metadata": {
    "id": "qotKE9Nx9TBX"
   },
   "source": [
    "# NumPy Practice \n",
    "## for lab4\n",
    "\n",
    "This notebook offers a set of exercises for different tasks with NumPy.\n",
    "\n",
    "It should be noted there may be more than one different way to answer a question or complete an exercise.\n",
    "\n",
    "Exercises are based off (and directly taken from) the  introduction to NumPy notebook.\n",
    "\n",
    "Different tasks will be detailed by comments or text.\n",
    "\n",
    "And if you get stuck, try searching for a question in the following format: \"how to do XYZ with numpy\", where XYZ is the function you want to leverage from NumPy. "
   ]
  },
  {
   "cell_type": "code",
   "execution_count": 1,
   "metadata": {
    "id": "IdvcFcEx9TBd"
   },
   "outputs": [],
   "source": [
    "# Import NumPy as its abbreviation 'np'\n",
    "import numpy as np"
   ]
  },
  {
   "cell_type": "code",
   "execution_count": 2,
   "metadata": {
    "id": "H_GcnVB21M9E",
    "outputId": "2f2ced04-9690-460e-8214-7a91281c9fae"
   },
   "outputs": [
    {
     "data": {
      "text/plain": [
       "array([1, 2, 3])"
      ]
     },
     "execution_count": 2,
     "metadata": {},
     "output_type": "execute_result"
    }
   ],
   "source": [
    "# Create a 1-dimensional NumPy array using np.array()\n",
    "arr = np.array([1, 2, 3])\n",
    "arr"
   ]
  },
  {
   "cell_type": "code",
   "execution_count": 4,
   "metadata": {
    "id": "snMuo7-81M9G",
    "outputId": "d1174ff2-0ac8-4e8a-a732-ed657e70ed46"
   },
   "outputs": [
    {
     "data": {
      "text/plain": [
       "array([[1, 2, 3],\n",
       "       [4, 5, 6]])"
      ]
     },
     "execution_count": 4,
     "metadata": {},
     "output_type": "execute_result"
    }
   ],
   "source": [
    "# Create a 2-dimensional NumPy array using np.array()\n",
    "arr = np.array([[1, 2, 3], [4, 5, 6]])\n",
    "arr"
   ]
  },
  {
   "cell_type": "code",
   "execution_count": 5,
   "metadata": {
    "id": "c1qHZOi39TBf",
    "outputId": "d1ad6a89-6ab3-4248-cdc4-07e597ab464c"
   },
   "outputs": [
    {
     "data": {
      "text/plain": [
       "array([[[ 1,  2,  3],\n",
       "        [ 4,  5,  6],\n",
       "        [ 7,  8,  9]],\n",
       "\n",
       "       [[10, 11, 12],\n",
       "        [13, 14, 15],\n",
       "        [16, 17, 18]]])"
      ]
     },
     "execution_count": 5,
     "metadata": {},
     "output_type": "execute_result"
    }
   ],
   "source": [
    "# Create a 3-dimensional Numpy array using np.array()\n",
    "arr = np.array([[[ 1,  2,  3],\n",
    "                 [ 4,  5,  6],\n",
    "                 [ 7,  8,  9]],\n",
    "\n",
    "                [[10, 11, 12],\n",
    "                 [13, 14, 15],\n",
    "                 [16, 17, 18]]])\n",
    "arr"
   ]
  },
  {
   "cell_type": "markdown",
   "metadata": {
    "id": "nHbPutbS9TBg"
   },
   "source": [
    "Now we've you've created 3 different arrays, let's find details about them.\n",
    "\n",
    "Find the shape, number of dimensions, data type, size and type of  array."
   ]
  },
  {
   "cell_type": "code",
   "execution_count": 10,
   "metadata": {
    "id": "SSApOhPt9TBl",
    "outputId": "36ad1141-7124-46f4-e373-c9ec4116cd6b"
   },
   "outputs": [
    {
     "data": {
      "text/plain": [
       "((2, 3, 3), 3, dtype('int32'), 18, numpy.ndarray)"
      ]
     },
     "execution_count": 10,
     "metadata": {},
     "output_type": "execute_result"
    }
   ],
   "source": [
    "# Attributes of 3-dimensional array\n",
    "arr = np.random.randint(0, 11, size=(2, 3,3))\n",
    "shape = arr.shape\n",
    "ndim = arr.ndim\n",
    "dtype = arr.dtype\n",
    "size = arr.size\n",
    "arr_type = type(arr)\n",
    "output = (shape, ndim, dtype, size, arr_type)\n",
    "output"
   ]
  },
  {
   "cell_type": "code",
   "execution_count": 11,
   "metadata": {
    "id": "9kbFcLy99TBo",
    "outputId": "b05990fa-a5be-4733-e033-1f48988f544c"
   },
   "outputs": [
    {
     "data": {
      "text/plain": [
       "array([[1., 1.],\n",
       "       [1., 1.],\n",
       "       [1., 1.],\n",
       "       [1., 1.],\n",
       "       [1., 1.],\n",
       "       [1., 1.],\n",
       "       [1., 1.],\n",
       "       [1., 1.],\n",
       "       [1., 1.],\n",
       "       [1., 1.]])"
      ]
     },
     "execution_count": 11,
     "metadata": {},
     "output_type": "execute_result"
    }
   ],
   "source": [
    "# Create an array of shape (10, 2) with only ones\n",
    "arr = np.ones((10, 2))\n",
    "arr"
   ]
  },
  {
   "cell_type": "code",
   "execution_count": 12,
   "metadata": {
    "id": "E90Mupfj9TBp",
    "outputId": "24103025-8b5f-4231-97ea-64ec57e76a43"
   },
   "outputs": [
    {
     "data": {
      "text/plain": [
       "array([[[0., 0., 0.],\n",
       "        [0., 0., 0.]],\n",
       "\n",
       "       [[0., 0., 0.],\n",
       "        [0., 0., 0.]],\n",
       "\n",
       "       [[0., 0., 0.],\n",
       "        [0., 0., 0.]],\n",
       "\n",
       "       [[0., 0., 0.],\n",
       "        [0., 0., 0.]],\n",
       "\n",
       "       [[0., 0., 0.],\n",
       "        [0., 0., 0.]],\n",
       "\n",
       "       [[0., 0., 0.],\n",
       "        [0., 0., 0.]],\n",
       "\n",
       "       [[0., 0., 0.],\n",
       "        [0., 0., 0.]]])"
      ]
     },
     "execution_count": 12,
     "metadata": {},
     "output_type": "execute_result"
    }
   ],
   "source": [
    "# Create an array of shape (7, 2, 3) of only zeros\n",
    "arr = np.zeros((7, 2, 3))\n",
    "arr"
   ]
  },
  {
   "cell_type": "code",
   "execution_count": 13,
   "metadata": {
    "id": "wPlgXr6Z9TBp",
    "outputId": "028202ad-7d85-4b4a-a6d5-67b07fc93388"
   },
   "outputs": [
    {
     "data": {
      "text/plain": [
       "array([ 0,  3,  6,  9, 12, 15, 18, 21, 24, 27, 30, 33, 36, 39, 42, 45, 48,\n",
       "       51, 54, 57, 60, 63, 66, 69, 72, 75, 78, 81, 84, 87, 90, 93, 96, 99])"
      ]
     },
     "execution_count": 13,
     "metadata": {},
     "output_type": "execute_result"
    }
   ],
   "source": [
    "# Create an array within a range of 0 and 100 with step 3\n",
    "arr = np.arange(0, 100, 3)\n",
    "arr"
   ]
  },
  {
   "cell_type": "code",
   "execution_count": 15,
   "metadata": {
    "id": "wijhfuFG9TBq",
    "outputId": "4aeb00eb-6510-46a3-87eb-a9a79b8717fa"
   },
   "outputs": [
    {
     "data": {
      "text/plain": [
       "array([[8, 7],\n",
       "       [9, 9],\n",
       "       [1, 9],\n",
       "       [1, 5],\n",
       "       [8, 7],\n",
       "       [6, 6],\n",
       "       [0, 4]])"
      ]
     },
     "execution_count": 15,
     "metadata": {},
     "output_type": "execute_result"
    }
   ],
   "source": [
    "# Create a random array with numbers between 0 and 10 of size (7, 2)\n",
    "arr = np.array([[8, 7],\n",
    "                [9, 9],\n",
    "                [1, 9],\n",
    "                [1, 5],\n",
    "                [8, 7],\n",
    "                [6, 6],\n",
    "                [0, 4]])\n",
    "arr"
   ]
  },
  {
   "cell_type": "code",
   "execution_count": 16,
   "metadata": {
    "id": "EWGo9oGd9TBr",
    "outputId": "59dbd0b8-c7d9-4799-ba04-8431f9044d4e"
   },
   "outputs": [
    {
     "data": {
      "text/plain": [
       "array([[0.47708141, 0.36973769, 0.24423888, 0.80549397, 0.02410476],\n",
       "       [0.05090772, 0.66356461, 0.53964887, 0.11367484, 0.09483077],\n",
       "       [0.40450195, 0.95645816, 0.60465161, 0.4691733 , 0.82344121]])"
      ]
     },
     "execution_count": 16,
     "metadata": {},
     "output_type": "execute_result"
    }
   ],
   "source": [
    "# Create a random array of floats between 0 & 1 of shape (3, 5)\n",
    "arr = np.random.rand(3, 5)\n",
    "arr"
   ]
  },
  {
   "cell_type": "code",
   "execution_count": 21,
   "metadata": {
    "id": "6Ha46ZqQ1M9R"
   },
   "outputs": [],
   "source": [
    "# Set the random seed to 42\n",
    "np.random.seed(42)"
   ]
  },
  {
   "cell_type": "code",
   "execution_count": 18,
   "metadata": {
    "id": "P_tjsyIl9TBr",
    "outputId": "6227fa70-0ce2-4242-95a8-22e2068bbb86"
   },
   "outputs": [
    {
     "data": {
      "text/plain": [
       "array([[6, 3, 7, 4, 6, 9],\n",
       "       [2, 6, 7, 4, 3, 7],\n",
       "       [7, 2, 5, 4, 1, 7],\n",
       "       [5, 1, 4, 0, 9, 5]])"
      ]
     },
     "execution_count": 18,
     "metadata": {},
     "output_type": "execute_result"
    }
   ],
   "source": [
    "# Create a random array of numbers between 0 & 10 of size (4, 6)\n",
    "arr = np.random.randint(0, 10, size=(4, 6))\n",
    "arr"
   ]
  },
  {
   "cell_type": "markdown",
   "metadata": {
    "id": "AyUA6MiI9TBu"
   },
   "source": [
    "Run the cell above again, what happens?\n",
    "\n",
    "Are the numbers in the array different or the same? Why do think this is?"
   ]
  },
  {
   "cell_type": "code",
   "execution_count": null,
   "metadata": {
    "id": "FioqROwc4pbE"
   },
   "outputs": [],
   "source": [
    "#write the answer here \n",
    "#"
   ]
  },
  {
   "cell_type": "code",
   "execution_count": 42,
   "metadata": {
    "id": "P-dERmcq9TBv",
    "outputId": "b58ba273-11c9-4b5e-ae15-a46f1977cca0"
   },
   "outputs": [
    {
     "data": {
      "text/plain": [
       "array([[ 4,  1,  5,  7, 10, 10,  6],\n",
       "       [ 5,  4,  2,  4, 10, 10,  3],\n",
       "       [10,  1,  8,  5,  4,  8,  7]])"
      ]
     },
     "execution_count": 42,
     "metadata": {},
     "output_type": "execute_result"
    }
   ],
   "source": [
    "# Create an array of random numbers between 1 & 10 of size (3, 7)\n",
    "# and save it to a variable\n",
    "arr = np.random.randint(1, 11, size=(3, 7))\n",
    "arr\n"
   ]
  },
  {
   "cell_type": "code",
   "execution_count": 43,
   "metadata": {
    "id": "CA-_PDnk9TBw",
    "outputId": "ec58d6f9-0a6d-4b42-ac26-a93dc06765e3"
   },
   "outputs": [
    {
     "data": {
      "text/plain": [
       "array([ 4,  1,  5,  7, 10, 10,  6])"
      ]
     },
     "execution_count": 43,
     "metadata": {},
     "output_type": "execute_result"
    }
   ],
   "source": [
    "# Find the 0'th index of the latest array you created\n",
    "arr_0th_index = arr[0]\n",
    "arr_0th_index"
   ]
  },
  {
   "cell_type": "code",
   "execution_count": 44,
   "metadata": {
    "id": "5PTJVVWh9TBw",
    "outputId": "a17f0fd8-d887-4f79-a2cd-f98097bbb5df"
   },
   "outputs": [
    {
     "data": {
      "text/plain": [
       "array([[ 4,  1,  5,  7, 10, 10,  6],\n",
       "       [ 5,  4,  2,  4, 10, 10,  3]])"
      ]
     },
     "execution_count": 44,
     "metadata": {},
     "output_type": "execute_result"
    }
   ],
   "source": [
    "# Get the first 2 rows of latest array you created\n",
    "first_two_rows = arr[:2]\n",
    "first_two_rows"
   ]
  },
  {
   "cell_type": "code",
   "execution_count": 45,
   "metadata": {
    "id": "fEFmEwDW9TBw",
    "outputId": "c99adbd2-769b-433f-f388-07db7c34a367"
   },
   "outputs": [
    {
     "data": {
      "text/plain": [
       "array([[4, 1],\n",
       "       [5, 4]])"
      ]
     },
     "execution_count": 45,
     "metadata": {},
     "output_type": "execute_result"
    }
   ],
   "source": [
    "# Get the first 2 values of the first 2 rows of the latest array\n",
    "first_two_values_first_two_rows = arr[:2, :2]\n",
    "first_two_values_first_two_rows"
   ]
  },
  {
   "cell_type": "code",
   "execution_count": 47,
   "metadata": {
    "id": "OyWBz5tE9TBx"
   },
   "outputs": [
    {
     "data": {
      "text/plain": [
       "(array([[ 7.,  9., 10.,  1.,  2.],\n",
       "        [ 1.,  2.,  6.,  0.,  9.],\n",
       "        [ 7.,  9.,  9.,  9.,  1.]]),\n",
       " array([[1., 1., 1., 1., 1.],\n",
       "        [1., 1., 1., 1., 1.],\n",
       "        [1., 1., 1., 1., 1.]]))"
      ]
     },
     "execution_count": 47,
     "metadata": {},
     "output_type": "execute_result"
    }
   ],
   "source": [
    "# Create a random array of numbers between 0 & 10 and an array of ones\n",
    "# both of size (3, 5), save them both to variables\n",
    "random_array = np.random.randint(0, 11, size=(3, 5)).astype(float)\n",
    "ones_array = np.ones((3, 5))\n",
    "random_array,ones_array"
   ]
  },
  {
   "cell_type": "code",
   "execution_count": 48,
   "metadata": {
    "id": "jS6L6IL19TBy",
    "outputId": "9462be2a-ad01-4a65-afe7-8279351438f8"
   },
   "outputs": [
    {
     "data": {
      "text/plain": [
       "array([[ 8., 10., 11.,  2.,  3.],\n",
       "       [ 2.,  3.,  7.,  1., 10.],\n",
       "       [ 8., 10., 10., 10.,  2.]])"
      ]
     },
     "execution_count": 48,
     "metadata": {},
     "output_type": "execute_result"
    }
   ],
   "source": [
    "# Add the two arrays together\n",
    "result_array = random_array + ones_array\n",
    "result_array"
   ]
  },
  {
   "cell_type": "code",
   "execution_count": 49,
   "metadata": {
    "id": "ap7ReGRt9TBz",
    "outputId": "090a23d8-7327-4fe8-fa2e-4b01ab251745"
   },
   "outputs": [
    {
     "data": {
      "text/plain": [
       "array([[1., 1., 1.],\n",
       "       [1., 1., 1.],\n",
       "       [1., 1., 1.],\n",
       "       [1., 1., 1.],\n",
       "       [1., 1., 1.]])"
      ]
     },
     "execution_count": 49,
     "metadata": {},
     "output_type": "execute_result"
    }
   ],
   "source": [
    "# Create another array of ones of shape (5, 3)\n",
    "ones_array_5x3 = np.ones((5, 3))\n",
    "ones_array_5x3"
   ]
  },
  {
   "cell_type": "code",
   "execution_count": 50,
   "metadata": {
    "id": "kjxxz2RX9TBz"
   },
   "outputs": [
    {
     "ename": "ValueError",
     "evalue": "operands could not be broadcast together with shapes (5,3) (3,5) ",
     "output_type": "error",
     "traceback": [
      "\u001b[1;31m---------------------------------------------------------------------------\u001b[0m",
      "\u001b[1;31mValueError\u001b[0m                                Traceback (most recent call last)",
      "\u001b[1;32m<ipython-input-50-3abf7b0bb90d>\u001b[0m in \u001b[0;36m<module>\u001b[1;34m\u001b[0m\n\u001b[0;32m      1\u001b[0m \u001b[1;31m# Try to add the array of ones and the other most recent array together\u001b[0m\u001b[1;33m\u001b[0m\u001b[1;33m\u001b[0m\u001b[1;33m\u001b[0m\u001b[0m\n\u001b[1;32m----> 2\u001b[1;33m \u001b[0mrec\u001b[0m\u001b[1;33m=\u001b[0m\u001b[0mones_array_5x3\u001b[0m\u001b[1;33m+\u001b[0m\u001b[0mresult_array\u001b[0m\u001b[1;33m\u001b[0m\u001b[1;33m\u001b[0m\u001b[0m\n\u001b[0m",
      "\u001b[1;31mValueError\u001b[0m: operands could not be broadcast together with shapes (5,3) (3,5) "
     ]
    }
   ],
   "source": [
    "# Try to add the array of ones and the other most recent array together\n",
    "rec=ones_array_5x3+result_array"
   ]
  },
  {
   "cell_type": "markdown",
   "metadata": {
    "id": "gfJSIBMY9TB0"
   },
   "source": [
    "When you try the last cell, it produces an error. Why do think this is?\n",
    "\n",
    "How would you fix it?"
   ]
  },
  {
   "cell_type": "code",
   "execution_count": null,
   "metadata": {
    "id": "jbPgm-We1M9b"
   },
   "outputs": [],
   "source": [
    "#لكن في هذه الحالة، الأبعاد غير متطابقة (حجم المصفوفة الأولى هو (3, 5) وحجم المصفوفة الثانية هو (5, 3))، لذا لا يمكن إجراء الجمع مباشرة بين المصفوفات.\n",
    "#لحل هذه المشكلة، يمكن استخدام التكرار (broadcasting) أو تغيير الأبعاد لتصبح متوافقة. في هذه الحالة، يمكن استخدام np.tile لتكرار المصفوفة التي بحجم (3, 5) لجعل أبعادها تتطابق مع (5, 3)، ولكن هذا ليس مفيدًا دائمًا وقد يتطلب معالجة إضافية حسب ما تحتاجه."
   ]
  },
  {
   "cell_type": "code",
   "execution_count": 51,
   "metadata": {
    "colab": {
     "base_uri": "https://localhost:8080/"
    },
    "executionInfo": {
     "elapsed": 14,
     "status": "ok",
     "timestamp": 1673290586793,
     "user": {
      "displayName": "Samiah Alshhri",
      "userId": "09925926185081619574"
     },
     "user_tz": -180
    },
    "id": "ghzwr0Ow9TB0",
    "outputId": "2e81643b-3d33-4115-e435-3585c0aca945"
   },
   "outputs": [
    {
     "data": {
      "text/plain": [
       "array([[1., 1., 1., 1., 1.],\n",
       "       [1., 1., 1., 1., 1.],\n",
       "       [1., 1., 1., 1., 1.]])"
      ]
     },
     "execution_count": 51,
     "metadata": {},
     "output_type": "execute_result"
    }
   ],
   "source": [
    "# Create another array of ones of shape (3, 5)\n",
    "ones_array_3x5 = np.ones((3, 5))\n",
    "ones_array_3x5"
   ]
  },
  {
   "cell_type": "code",
   "execution_count": 52,
   "metadata": {
    "id": "CL_M95zR9TB0",
    "outputId": "830fc9e8-d50f-4d36-be9e-ce883b112b16"
   },
   "outputs": [
    {
     "data": {
      "text/plain": [
       "array([[ 7.,  9., 10.,  1.,  2.],\n",
       "       [ 1.,  2.,  6.,  0.,  9.],\n",
       "       [ 7.,  9.,  9.,  9.,  1.]])"
      ]
     },
     "execution_count": 52,
     "metadata": {},
     "output_type": "execute_result"
    }
   ],
   "source": [
    "# Multiply the ones array with the latest array\n",
    "result = random_array * ones_array_3x5\n",
    "result"
   ]
  },
  {
   "cell_type": "code",
   "execution_count": 53,
   "metadata": {
    "id": "TrIKT4l69TB1",
    "outputId": "6c8ccfb6-bd36-4cab-c3a2-05a1c37951bf"
   },
   "outputs": [
    {
     "data": {
      "text/plain": [
       "5.466666666666667"
      ]
     },
     "execution_count": 53,
     "metadata": {},
     "output_type": "execute_result"
    }
   ],
   "source": [
    "# Find the mean of the latest array \n",
    "mean_value = np.mean(result)\n",
    "mean_value"
   ]
  },
  {
   "cell_type": "code",
   "execution_count": 54,
   "metadata": {
    "id": "Ito2rUeE9TB2",
    "outputId": "265141b7-d404-44af-dd88-3a3f55832805"
   },
   "outputs": [
    {
     "data": {
      "text/plain": [
       "3.6672726771933517"
      ]
     },
     "execution_count": 54,
     "metadata": {},
     "output_type": "execute_result"
    }
   ],
   "source": [
    "# Find the standard deviation of the latest array\n",
    "std_dev = np.std(result)\n",
    "std_dev"
   ]
  },
  {
   "cell_type": "code",
   "execution_count": 55,
   "metadata": {
    "id": "AfPBMIRX9TB3",
    "outputId": "620797b2-ce04-4cae-8638-72e7368d6f5a"
   },
   "outputs": [
    {
     "data": {
      "text/plain": [
       "array([[[ 7.],\n",
       "        [ 9.],\n",
       "        [10.],\n",
       "        [ 1.],\n",
       "        [ 2.]],\n",
       "\n",
       "       [[ 1.],\n",
       "        [ 2.],\n",
       "        [ 6.],\n",
       "        [ 0.],\n",
       "        [ 9.]],\n",
       "\n",
       "       [[ 7.],\n",
       "        [ 9.],\n",
       "        [ 9.],\n",
       "        [ 9.],\n",
       "        [ 1.]]])"
      ]
     },
     "execution_count": 55,
     "metadata": {},
     "output_type": "execute_result"
    }
   ],
   "source": [
    "# Reshape the latest array to (3, 5, 1)\n",
    "reshaped_array = result.reshape((3, 5, 1))\n",
    "reshaped_array"
   ]
  },
  {
   "cell_type": "code",
   "execution_count": 60,
   "metadata": {
    "id": "6ptbcjVS9TB3",
    "outputId": "65e2afaf-07d8-4f96-fbd2-aa52617fdb7f"
   },
   "outputs": [
    {
     "data": {
      "text/plain": [
       "array([[ 7.,  1.,  7.],\n",
       "       [ 9.,  2.,  9.],\n",
       "       [10.,  6.,  9.],\n",
       "       [ 1.,  0.,  9.],\n",
       "       [ 2.,  9.,  1.]])"
      ]
     },
     "execution_count": 60,
     "metadata": {},
     "output_type": "execute_result"
    }
   ],
   "source": [
    "# Transpose the latest array\n",
    "transposed_array = reshaped_array.reshape((3, 5)).T\n",
    "transposed_array"
   ]
  },
  {
   "cell_type": "markdown",
   "metadata": {
    "id": "FI0x1YQQ9TB4"
   },
   "source": [
    "What does the transpose do?"
   ]
  },
  {
   "cell_type": "code",
   "execution_count": 61,
   "metadata": {
    "colab": {
     "base_uri": "https://localhost:8080/"
    },
    "executionInfo": {
     "elapsed": 624,
     "status": "ok",
     "timestamp": 1673290819165,
     "user": {
      "displayName": "Samiah Alshhri",
      "userId": "09925926185081619574"
     },
     "user_tz": -180
    },
    "id": "AEOK0rMb9TB4",
    "outputId": "17bebe31-7f86-49b8-8c27-0c84545e03cd"
   },
   "outputs": [
    {
     "data": {
      "text/plain": [
       "(array([[ 2,  8,  6],\n",
       "        [ 3,  9,  4],\n",
       "        [ 1, 10,  7]]),\n",
       " array([[3, 8],\n",
       "        [4, 8],\n",
       "        [3, 9]]))"
      ]
     },
     "execution_count": 61,
     "metadata": {},
     "output_type": "execute_result"
    }
   ],
   "source": [
    "# Create two arrays of random integers between 0 to 10\n",
    "# one of size (3, 3) the other of size (3, 2)\n",
    "mat1 = np.random.randint(0, 11, size=(3, 3))\n",
    "mat2 = np.random.randint(0, 11, size=(3, 2))\n",
    "mat1, mat2"
   ]
  },
  {
   "cell_type": "code",
   "execution_count": 64,
   "metadata": {
    "id": "CX8TlSV-9TB6"
   },
   "outputs": [
    {
     "data": {
      "text/plain": [
       "(array([[10,  2],\n",
       "        [ 0,  3],\n",
       "        [ 8,  2],\n",
       "        [ 8,  6]]),\n",
       " array([[3, 2],\n",
       "        [9, 4],\n",
       "        [4, 2],\n",
       "        [8, 3]]))"
      ]
     },
     "execution_count": 64,
     "metadata": {},
     "output_type": "execute_result"
    }
   ],
   "source": [
    "# Create two arrays of random integers between 0 & 10 of the same shape\n",
    "# and save them to variables\n",
    "shape = (4, 2)\n",
    "array1 = np.random.randint(0, 11, size=shape)\n",
    "array2 = np.random.randint(0, 11, size=shape)\n",
    "array1, array2"
   ]
  },
  {
   "cell_type": "code",
   "execution_count": 65,
   "metadata": {
    "id": "Fsvpd0ch9TB6",
    "outputId": "d992c5af-9667-49c1-fde0-a7ac245d7341"
   },
   "outputs": [
    {
     "data": {
      "text/plain": [
       "array([[ True, False],\n",
       "       [False, False],\n",
       "       [ True, False],\n",
       "       [False,  True]])"
      ]
     },
     "execution_count": 65,
     "metadata": {},
     "output_type": "execute_result"
    }
   ],
   "source": [
    "# Compare the two arrays with '>'\n",
    "comparison = array1 > array2\n",
    "comparison"
   ]
  },
  {
   "cell_type": "markdown",
   "metadata": {
    "id": "cXxmyCay9TB6"
   },
   "source": [
    "What happens when you compare the arrays with `>`?"
   ]
  },
  {
   "cell_type": "code",
   "execution_count": 67,
   "metadata": {
    "id": "jFWhK5VY9TB6",
    "outputId": "67f09a91-2f4f-46bf-a268-dcef1b82da08"
   },
   "outputs": [
    {
     "data": {
      "text/plain": [
       "array([[ True,  True],\n",
       "       [False, False],\n",
       "       [ True,  True],\n",
       "       [ True,  True]])"
      ]
     },
     "execution_count": 67,
     "metadata": {},
     "output_type": "execute_result"
    }
   ],
   "source": [
    "# Compare the two arrays with '>='\n",
    "comparison = array1 >= array2\n",
    "comparison"
   ]
  },
  {
   "cell_type": "code",
   "execution_count": 70,
   "metadata": {
    "id": "tVnjpoLI9TB7",
    "outputId": "6df429f9-619b-40ec-9b45-60643a1a9798"
   },
   "outputs": [
    {
     "data": {
      "text/plain": [
       "array([[1, 4],\n",
       "       [2, 5],\n",
       "       [6, 7],\n",
       "       [9, 8]])"
      ]
     },
     "execution_count": 70,
     "metadata": {},
     "output_type": "execute_result"
    }
   ],
   "source": [
    "# Sort one of the arrays you just created in ascending order\n",
    "array1 = np.array([[6, 5],\n",
    "                   [9, 4],\n",
    "                   [2, 7],\n",
    "                   [1, 8]])\n",
    "sorted_array1 = np.sort(array1, axis=0)\n",
    "sorted_array1"
   ]
  },
  {
   "cell_type": "code",
   "execution_count": 72,
   "metadata": {
    "id": "oI2TvN9U9TB8",
    "outputId": "3e5fe581-403d-46f3-e405-0e526f000161"
   },
   "outputs": [
    {
     "data": {
      "text/plain": [
       "array([[3, 1],\n",
       "       [2, 0],\n",
       "       [0, 2],\n",
       "       [1, 3]], dtype=int64)"
      ]
     },
     "execution_count": 72,
     "metadata": {},
     "output_type": "execute_result"
    }
   ],
   "source": [
    "#Sort the indexes of one of the arrays you just created\n",
    "#hint ....search about argsort \n",
    "sorted_indices = np.argsort(array1, axis=0)\n",
    "sorted_indices"
   ]
  },
  {
   "cell_type": "code",
   "execution_count": 74,
   "metadata": {
    "colab": {
     "base_uri": "https://localhost:8080/"
    },
    "executionInfo": {
     "elapsed": 458,
     "status": "ok",
     "timestamp": 1673702571630,
     "user": {
      "displayName": "Samiah Alshhri",
      "userId": "09925926185081619574"
     },
     "user_tz": -180
    },
    "id": "69bDhgp-azdG",
    "outputId": "6bc52d48-c4f4-4aa4-efed-e52b9d896a60"
   },
   "outputs": [
    {
     "data": {
      "text/plain": [
       "array([ 6,  9, 12,  8,  5,  2, 18, 21, 24])"
      ]
     },
     "execution_count": 74,
     "metadata": {},
     "output_type": "execute_result"
    }
   ],
   "source": [
    "#convert  array to vector (1-dimensianal)\n",
    "arr = np.array([[6, 9, 12], [8, 5, 2], [18, 21, 24]])\n",
    "vector = arr.ravel()\n",
    "vector"
   ]
  },
  {
   "cell_type": "code",
   "execution_count": 75,
   "metadata": {
    "id": "bxhfqzJC9TB9",
    "outputId": "d9f46741-b6d1-422d-a21d-e3e9c7b87986"
   },
   "outputs": [
    {
     "data": {
      "text/plain": [
       "array([[ 1.15811087,  0.79166269,  0.62411982,  0.62834551, -0.01224677],\n",
       "       [-0.89725437,  0.07580456, -0.67716171,  0.97511973, -0.14705738],\n",
       "       [-0.8254972 , -0.32138584,  0.41293145, -0.56372455, -0.8222204 ]])"
      ]
     },
     "execution_count": 75,
     "metadata": {},
     "output_type": "execute_result"
    }
   ],
   "source": [
    "# Create an array of normally distributed random numbers\n",
    "normal_array = np.random.randn(3, 5)\n",
    "normal_array"
   ]
  },
  {
   "cell_type": "code",
   "execution_count": 76,
   "metadata": {
    "id": "pLs9NaST9TB9",
    "outputId": "2aba0b98-770f-4a05-b783-49ea43fc978a"
   },
   "outputs": [
    {
     "data": {
      "text/plain": [
       "array([  1.,  12.,  23.,  34.,  45.,  56.,  67.,  78.,  89., 100.])"
      ]
     },
     "execution_count": 76,
     "metadata": {},
     "output_type": "execute_result"
    }
   ],
   "source": [
    "# Create an array with 10 evenly spaced numbers between 1 and 100\n",
    "#hint search about linespace\n",
    "evenly_spaced_array = np.linspace(1, 100, 10)\n",
    "evenly_spaced_array"
   ]
  },
  {
   "cell_type": "code",
   "execution_count": null,
   "metadata": {},
   "outputs": [],
   "source": []
  }
 ],
 "metadata": {
  "colab": {
   "provenance": [
    {
     "file_id": "1G0muezn5LrHrYOHM3yJFDUlcf1ajNWqx",
     "timestamp": 1673715136504
    }
   ]
  },
  "kernelspec": {
   "display_name": "Python 3",
   "language": "python",
   "name": "python3"
  },
  "language_info": {
   "codemirror_mode": {
    "name": "ipython",
    "version": 3
   },
   "file_extension": ".py",
   "mimetype": "text/x-python",
   "name": "python",
   "nbconvert_exporter": "python",
   "pygments_lexer": "ipython3",
   "version": "3.8.8"
  }
 },
 "nbformat": 4,
 "nbformat_minor": 1
}
