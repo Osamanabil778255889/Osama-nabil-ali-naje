{
 "cells": [
  {
   "cell_type": "markdown",
   "metadata": {
    "id": "OExgF5v4GgGE"
   },
   "source": [
    "# **Pandas Practice 💪**\n",
    "## for lab4"
   ]
  },
  {
   "cell_type": "markdown",
   "metadata": {
    "id": "cUIN1-Z-Gvgy"
   },
   "source": [
    "1- import pandas"
   ]
  },
  {
   "cell_type": "code",
   "execution_count": 250,
   "metadata": {
    "id": "xFQaR0nkGuRF"
   },
   "outputs": [],
   "source": [
    "import pandas as pd"
   ]
  },
  {
   "cell_type": "markdown",
   "metadata": {
    "id": "TuDc0v9LG7Or"
   },
   "source": [
    "2- creat series like below"
   ]
  },
  {
   "cell_type": "code",
   "execution_count": 251,
   "metadata": {
    "colab": {
     "base_uri": "https://localhost:8080/"
    },
    "executionInfo": {
     "elapsed": 23,
     "status": "ok",
     "timestamp": 1674858382368,
     "user": {
      "displayName": "عمير البعداني",
      "userId": "11143181230325779334"
     },
     "user_tz": -180
    },
    "id": "F7fOgytvHCIC",
    "outputId": "bc84cddd-86c0-4596-fc31-cbc6678c598b"
   },
   "outputs": [
    {
     "data": {
      "text/plain": [
       "0     city\n",
       "1    ignis\n",
       "2      800\n",
       "3    Verna\n",
       "4    Venue\n",
       "5    Punto\n",
       "dtype: object"
      ]
     },
     "execution_count": 251,
     "metadata": {},
     "output_type": "execute_result"
    }
   ],
   "source": [
    "data = pd.Series(['city', 'ignis', '800', 'Verna','Venue','Punto'])\n",
    "data\n"
   ]
  },
  {
   "cell_type": "code",
   "execution_count": 252,
   "metadata": {
    "colab": {
     "base_uri": "https://localhost:8080/"
    },
    "executionInfo": {
     "elapsed": 23,
     "status": "ok",
     "timestamp": 1674858382369,
     "user": {
      "displayName": "عمير البعداني",
      "userId": "11143181230325779334"
     },
     "user_tz": -180
    },
    "id": "6atiphSNHXxD",
    "outputId": "cbfbf961-c88b-47bc-947f-5d348a848611"
   },
   "outputs": [
    {
     "data": {
      "text/plain": [
       "0      Honda\n",
       "1     maruti\n",
       "2     Maruti\n",
       "3    Hyundia\n",
       "4    Hyundai\n",
       "5       Fiat\n",
       "dtype: object"
      ]
     },
     "execution_count": 252,
     "metadata": {},
     "output_type": "execute_result"
    }
   ],
   "source": [
    "data_1 = pd.Series(['Honda', 'maruti', 'Maruti', 'Hyundia','Hyundai','Fiat'])\n",
    "data_1"
   ]
  },
  {
   "cell_type": "code",
   "execution_count": 253,
   "metadata": {},
   "outputs": [
    {
     "data": {
      "text/plain": [
       "pandas.core.series.Series"
      ]
     },
     "execution_count": 253,
     "metadata": {},
     "output_type": "execute_result"
    }
   ],
   "source": [
    "s = pd.Series([0,0,0,0,0,0])\n",
    "type(s)"
   ]
  },
  {
   "cell_type": "code",
   "execution_count": 254,
   "metadata": {
    "colab": {
     "base_uri": "https://localhost:8080/"
    },
    "executionInfo": {
     "elapsed": 22,
     "status": "ok",
     "timestamp": 1674858382369,
     "user": {
      "displayName": "عمير البعداني",
      "userId": "11143181230325779334"
     },
     "user_tz": -180
    },
    "id": "up0Q7bjxHsoT",
    "outputId": "7d86758f-e4d3-4be1-fd80-9936cf1253c2"
   },
   "outputs": [
    {
     "data": {
      "text/plain": [
       "0    900000\n",
       "1    600000\n",
       "2    100000\n",
       "3    800000\n",
       "4    950000\n",
       "5    750000\n",
       "dtype: int64"
      ]
     },
     "execution_count": 254,
     "metadata": {},
     "output_type": "execute_result"
    }
   ],
   "source": [
    "s=s + [900000,600000,100000,800000,950000,750000]\n",
    "s"
   ]
  },
  {
   "cell_type": "code",
   "execution_count": 255,
   "metadata": {
    "colab": {
     "base_uri": "https://localhost:8080/"
    },
    "executionInfo": {
     "elapsed": 22,
     "status": "ok",
     "timestamp": 1674858382370,
     "user": {
      "displayName": "عمير البعداني",
      "userId": "11143181230325779334"
     },
     "user_tz": -180
    },
    "id": "OPUZEORhJUe6",
    "outputId": "7a6f1286-da77-4dea-bf4a-8f74fed72188"
   },
   "outputs": [
    {
     "data": {
      "text/plain": [
       "0     5\n",
       "1     7\n",
       "2    10\n",
       "3     4\n",
       "4     2\n",
       "5     6\n",
       "dtype: int64"
      ]
     },
     "execution_count": 255,
     "metadata": {},
     "output_type": "execute_result"
    }
   ],
   "source": [
    "b = pd.Series([5,7,10,4,2,6])\n",
    "b"
   ]
  },
  {
   "cell_type": "markdown",
   "metadata": {
    "id": "9QL76yW9JjDT"
   },
   "source": [
    "3- creating Data Ftrame frome your series like below"
   ]
  },
  {
   "cell_type": "code",
   "execution_count": 256,
   "metadata": {
    "colab": {
     "base_uri": "https://localhost:8080/",
     "height": 237
    },
    "executionInfo": {
     "elapsed": 21,
     "status": "ok",
     "timestamp": 1674858382370,
     "user": {
      "displayName": "عمير البعداني",
      "userId": "11143181230325779334"
     },
     "user_tz": -180
    },
    "id": "jS-6fyzpJn5S",
    "outputId": "7b5e497d-df18-4879-838c-088171412278"
   },
   "outputs": [
    {
     "data": {
      "text/html": [
       "<div>\n",
       "<style scoped>\n",
       "    .dataframe tbody tr th:only-of-type {\n",
       "        vertical-align: middle;\n",
       "    }\n",
       "\n",
       "    .dataframe tbody tr th {\n",
       "        vertical-align: top;\n",
       "    }\n",
       "\n",
       "    .dataframe thead th {\n",
       "        text-align: right;\n",
       "    }\n",
       "</style>\n",
       "<table border=\"1\" class=\"dataframe\">\n",
       "  <thead>\n",
       "    <tr style=\"text-align: right;\">\n",
       "      <th></th>\n",
       "      <th>car</th>\n",
       "      <th>brand</th>\n",
       "      <th>cost</th>\n",
       "      <th>year</th>\n",
       "    </tr>\n",
       "  </thead>\n",
       "  <tbody>\n",
       "    <tr>\n",
       "      <th>0</th>\n",
       "      <td>city</td>\n",
       "      <td>Honda</td>\n",
       "      <td>900000</td>\n",
       "      <td>5</td>\n",
       "    </tr>\n",
       "    <tr>\n",
       "      <th>1</th>\n",
       "      <td>ignis</td>\n",
       "      <td>maruti</td>\n",
       "      <td>600000</td>\n",
       "      <td>7</td>\n",
       "    </tr>\n",
       "    <tr>\n",
       "      <th>2</th>\n",
       "      <td>800</td>\n",
       "      <td>Maruti</td>\n",
       "      <td>100000</td>\n",
       "      <td>10</td>\n",
       "    </tr>\n",
       "    <tr>\n",
       "      <th>3</th>\n",
       "      <td>Verna</td>\n",
       "      <td>Hyundia</td>\n",
       "      <td>800000</td>\n",
       "      <td>4</td>\n",
       "    </tr>\n",
       "    <tr>\n",
       "      <th>4</th>\n",
       "      <td>Venue</td>\n",
       "      <td>Hyundai</td>\n",
       "      <td>950000</td>\n",
       "      <td>2</td>\n",
       "    </tr>\n",
       "    <tr>\n",
       "      <th>5</th>\n",
       "      <td>Punto</td>\n",
       "      <td>Fiat</td>\n",
       "      <td>750000</td>\n",
       "      <td>6</td>\n",
       "    </tr>\n",
       "  </tbody>\n",
       "</table>\n",
       "</div>"
      ],
      "text/plain": [
       "     car    brand    cost  year\n",
       "0   city    Honda  900000     5\n",
       "1  ignis   maruti  600000     7\n",
       "2    800   Maruti  100000    10\n",
       "3  Verna  Hyundia  800000     4\n",
       "4  Venue  Hyundai  950000     2\n",
       "5  Punto     Fiat  750000     6"
      ]
     },
     "execution_count": 256,
     "metadata": {},
     "output_type": "execute_result"
    }
   ],
   "source": [
    "car_data = pd.DataFrame({\"car\": data, \n",
    "                         \"brand\": data_1,\n",
    "                            \"cost\":s,\n",
    "                       \"year\":b})\n",
    "car_data"
   ]
  },
  {
   "cell_type": "markdown",
   "metadata": {
    "id": "V78PaSrNMbDZ"
   },
   "source": [
    "4-select column "
   ]
  },
  {
   "cell_type": "code",
   "execution_count": 257,
   "metadata": {
    "colab": {
     "base_uri": "https://localhost:8080/"
    },
    "executionInfo": {
     "elapsed": 21,
     "status": "ok",
     "timestamp": 1674858382371,
     "user": {
      "displayName": "عمير البعداني",
      "userId": "11143181230325779334"
     },
     "user_tz": -180
    },
    "id": "yz5eXl8SMaWq",
    "outputId": "a50c6f61-c91d-491a-958d-a4fe47d85e4d"
   },
   "outputs": [
    {
     "data": {
      "text/plain": [
       "0      Honda\n",
       "1     maruti\n",
       "2     Maruti\n",
       "3    Hyundia\n",
       "4    Hyundai\n",
       "5       Fiat\n",
       "Name: brand, dtype: object"
      ]
     },
     "execution_count": 257,
     "metadata": {},
     "output_type": "execute_result"
    }
   ],
   "source": [
    "car_data['brand']"
   ]
  },
  {
   "cell_type": "markdown",
   "metadata": {
    "id": "_sQOOAJpMxT6"
   },
   "source": [
    "5- select two columns"
   ]
  },
  {
   "cell_type": "code",
   "execution_count": 258,
   "metadata": {},
   "outputs": [
    {
     "data": {
      "text/html": [
       "<div>\n",
       "<style scoped>\n",
       "    .dataframe tbody tr th:only-of-type {\n",
       "        vertical-align: middle;\n",
       "    }\n",
       "\n",
       "    .dataframe tbody tr th {\n",
       "        vertical-align: top;\n",
       "    }\n",
       "\n",
       "    .dataframe thead th {\n",
       "        text-align: right;\n",
       "    }\n",
       "</style>\n",
       "<table border=\"1\" class=\"dataframe\">\n",
       "  <thead>\n",
       "    <tr style=\"text-align: right;\">\n",
       "      <th></th>\n",
       "      <th>car</th>\n",
       "      <th>cost</th>\n",
       "    </tr>\n",
       "  </thead>\n",
       "  <tbody>\n",
       "    <tr>\n",
       "      <th>0</th>\n",
       "      <td>city</td>\n",
       "      <td>900000</td>\n",
       "    </tr>\n",
       "    <tr>\n",
       "      <th>1</th>\n",
       "      <td>ignis</td>\n",
       "      <td>600000</td>\n",
       "    </tr>\n",
       "    <tr>\n",
       "      <th>2</th>\n",
       "      <td>800</td>\n",
       "      <td>100000</td>\n",
       "    </tr>\n",
       "    <tr>\n",
       "      <th>3</th>\n",
       "      <td>Verna</td>\n",
       "      <td>800000</td>\n",
       "    </tr>\n",
       "    <tr>\n",
       "      <th>4</th>\n",
       "      <td>Venue</td>\n",
       "      <td>950000</td>\n",
       "    </tr>\n",
       "    <tr>\n",
       "      <th>5</th>\n",
       "      <td>Punto</td>\n",
       "      <td>750000</td>\n",
       "    </tr>\n",
       "  </tbody>\n",
       "</table>\n",
       "</div>"
      ],
      "text/plain": [
       "     car    cost\n",
       "0   city  900000\n",
       "1  ignis  600000\n",
       "2    800  100000\n",
       "3  Verna  800000\n",
       "4  Venue  950000\n",
       "5  Punto  750000"
      ]
     },
     "execution_count": 258,
     "metadata": {},
     "output_type": "execute_result"
    }
   ],
   "source": [
    "car_data[['car','cost']]"
   ]
  },
  {
   "cell_type": "code",
   "execution_count": 259,
   "metadata": {},
   "outputs": [
    {
     "data": {
      "text/html": [
       "<div>\n",
       "<style scoped>\n",
       "    .dataframe tbody tr th:only-of-type {\n",
       "        vertical-align: middle;\n",
       "    }\n",
       "\n",
       "    .dataframe tbody tr th {\n",
       "        vertical-align: top;\n",
       "    }\n",
       "\n",
       "    .dataframe thead th {\n",
       "        text-align: right;\n",
       "    }\n",
       "</style>\n",
       "<table border=\"1\" class=\"dataframe\">\n",
       "  <thead>\n",
       "    <tr style=\"text-align: right;\">\n",
       "      <th></th>\n",
       "      <th>car</th>\n",
       "      <th>cost</th>\n",
       "    </tr>\n",
       "  </thead>\n",
       "  <tbody>\n",
       "    <tr>\n",
       "      <th>0</th>\n",
       "      <td>city</td>\n",
       "      <td>900000</td>\n",
       "    </tr>\n",
       "    <tr>\n",
       "      <th>1</th>\n",
       "      <td>ignis</td>\n",
       "      <td>600000</td>\n",
       "    </tr>\n",
       "    <tr>\n",
       "      <th>2</th>\n",
       "      <td>800</td>\n",
       "      <td>100000</td>\n",
       "    </tr>\n",
       "    <tr>\n",
       "      <th>3</th>\n",
       "      <td>Verna</td>\n",
       "      <td>800000</td>\n",
       "    </tr>\n",
       "    <tr>\n",
       "      <th>4</th>\n",
       "      <td>Venue</td>\n",
       "      <td>950000</td>\n",
       "    </tr>\n",
       "    <tr>\n",
       "      <th>5</th>\n",
       "      <td>Punto</td>\n",
       "      <td>750000</td>\n",
       "    </tr>\n",
       "  </tbody>\n",
       "</table>\n",
       "</div>"
      ],
      "text/plain": [
       "     car    cost\n",
       "0   city  900000\n",
       "1  ignis  600000\n",
       "2    800  100000\n",
       "3  Verna  800000\n",
       "4  Venue  950000\n",
       "5  Punto  750000"
      ]
     },
     "execution_count": 259,
     "metadata": {},
     "output_type": "execute_result"
    }
   ],
   "source": [
    "car_data_1 = pd.DataFrame({\"car\": data, \n",
    "                            \"cost\":s})\n",
    "car_data_1"
   ]
  },
  {
   "cell_type": "markdown",
   "metadata": {
    "id": "_a7XvUvyM9hh"
   },
   "source": [
    "6- return dataframe to value"
   ]
  },
  {
   "cell_type": "code",
   "execution_count": 260,
   "metadata": {
    "colab": {
     "base_uri": "https://localhost:8080/"
    },
    "executionInfo": {
     "elapsed": 19,
     "status": "ok",
     "timestamp": 1674858382372,
     "user": {
      "displayName": "عمير البعداني",
      "userId": "11143181230325779334"
     },
     "user_tz": -180
    },
    "id": "NW9xIMyjM4WL",
    "outputId": "642dc266-fdb7-4916-cb29-cc7b1ffd18c0"
   },
   "outputs": [
    {
     "data": {
      "text/plain": [
       "array([['city', 'Honda', 900000, 5],\n",
       "       ['ignis', 'maruti', 600000, 7],\n",
       "       ['800', 'Maruti', 100000, 10],\n",
       "       ['Verna', 'Hyundia', 800000, 4],\n",
       "       ['Venue', 'Hyundai', 950000, 2],\n",
       "       ['Punto', 'Fiat', 750000, 6]], dtype=object)"
      ]
     },
     "execution_count": 260,
     "metadata": {},
     "output_type": "execute_result"
    }
   ],
   "source": [
    "car_data.values"
   ]
  },
  {
   "cell_type": "markdown",
   "metadata": {
    "id": "07-Wd8slNUwR"
   },
   "source": [
    "7- Selecting Elements use iloc or loc\n",
    "\n",
    "\n"
   ]
  },
  {
   "cell_type": "code",
   "execution_count": 261,
   "metadata": {},
   "outputs": [
    {
     "data": {
      "text/html": [
       "<div>\n",
       "<style scoped>\n",
       "    .dataframe tbody tr th:only-of-type {\n",
       "        vertical-align: middle;\n",
       "    }\n",
       "\n",
       "    .dataframe tbody tr th {\n",
       "        vertical-align: top;\n",
       "    }\n",
       "\n",
       "    .dataframe thead th {\n",
       "        text-align: right;\n",
       "    }\n",
       "</style>\n",
       "<table border=\"1\" class=\"dataframe\">\n",
       "  <thead>\n",
       "    <tr style=\"text-align: right;\">\n",
       "      <th></th>\n",
       "      <th>cost</th>\n",
       "      <th>year</th>\n",
       "    </tr>\n",
       "  </thead>\n",
       "  <tbody>\n",
       "    <tr>\n",
       "      <th>1</th>\n",
       "      <td>600000</td>\n",
       "      <td>7</td>\n",
       "    </tr>\n",
       "    <tr>\n",
       "      <th>2</th>\n",
       "      <td>100000</td>\n",
       "      <td>10</td>\n",
       "    </tr>\n",
       "  </tbody>\n",
       "</table>\n",
       "</div>"
      ],
      "text/plain": [
       "     cost  year\n",
       "1  600000     7\n",
       "2  100000    10"
      ]
     },
     "execution_count": 261,
     "metadata": {},
     "output_type": "execute_result"
    }
   ],
   "source": [
    "car_data_df=car_data.loc[1:2,['cost','year']]\n",
    "car_data_df"
   ]
  },
  {
   "cell_type": "markdown",
   "metadata": {
    "id": "kBx9nxx5N83q"
   },
   "source": [
    "8- sort data by cost from high cost to low cost"
   ]
  },
  {
   "cell_type": "code",
   "execution_count": 262,
   "metadata": {},
   "outputs": [
    {
     "data": {
      "text/html": [
       "<div>\n",
       "<style scoped>\n",
       "    .dataframe tbody tr th:only-of-type {\n",
       "        vertical-align: middle;\n",
       "    }\n",
       "\n",
       "    .dataframe tbody tr th {\n",
       "        vertical-align: top;\n",
       "    }\n",
       "\n",
       "    .dataframe thead th {\n",
       "        text-align: right;\n",
       "    }\n",
       "</style>\n",
       "<table border=\"1\" class=\"dataframe\">\n",
       "  <thead>\n",
       "    <tr style=\"text-align: right;\">\n",
       "      <th></th>\n",
       "      <th>car</th>\n",
       "      <th>brand</th>\n",
       "      <th>cost</th>\n",
       "      <th>year</th>\n",
       "    </tr>\n",
       "  </thead>\n",
       "  <tbody>\n",
       "    <tr>\n",
       "      <th>4</th>\n",
       "      <td>Venue</td>\n",
       "      <td>Hyundai</td>\n",
       "      <td>950000</td>\n",
       "      <td>2</td>\n",
       "    </tr>\n",
       "    <tr>\n",
       "      <th>0</th>\n",
       "      <td>city</td>\n",
       "      <td>Honda</td>\n",
       "      <td>900000</td>\n",
       "      <td>5</td>\n",
       "    </tr>\n",
       "    <tr>\n",
       "      <th>3</th>\n",
       "      <td>Verna</td>\n",
       "      <td>Hyundia</td>\n",
       "      <td>800000</td>\n",
       "      <td>4</td>\n",
       "    </tr>\n",
       "    <tr>\n",
       "      <th>5</th>\n",
       "      <td>Punto</td>\n",
       "      <td>Fiat</td>\n",
       "      <td>750000</td>\n",
       "      <td>6</td>\n",
       "    </tr>\n",
       "    <tr>\n",
       "      <th>1</th>\n",
       "      <td>ignis</td>\n",
       "      <td>maruti</td>\n",
       "      <td>600000</td>\n",
       "      <td>7</td>\n",
       "    </tr>\n",
       "    <tr>\n",
       "      <th>2</th>\n",
       "      <td>800</td>\n",
       "      <td>Maruti</td>\n",
       "      <td>100000</td>\n",
       "      <td>10</td>\n",
       "    </tr>\n",
       "  </tbody>\n",
       "</table>\n",
       "</div>"
      ],
      "text/plain": [
       "     car    brand    cost  year\n",
       "4  Venue  Hyundai  950000     2\n",
       "0   city    Honda  900000     5\n",
       "3  Verna  Hyundia  800000     4\n",
       "5  Punto     Fiat  750000     6\n",
       "1  ignis   maruti  600000     7\n",
       "2    800   Maruti  100000    10"
      ]
     },
     "execution_count": 262,
     "metadata": {},
     "output_type": "execute_result"
    }
   ],
   "source": [
    "car_data_sort=car_data.sort_values(by='cost',ascending=False)\n",
    "car_data_sort"
   ]
  },
  {
   "cell_type": "markdown",
   "metadata": {
    "id": "128Ndz93OpmS"
   },
   "source": [
    "9- replace name of car 800 to toyota"
   ]
  },
  {
   "cell_type": "code",
   "execution_count": 263,
   "metadata": {},
   "outputs": [
    {
     "data": {
      "text/html": [
       "<div>\n",
       "<style scoped>\n",
       "    .dataframe tbody tr th:only-of-type {\n",
       "        vertical-align: middle;\n",
       "    }\n",
       "\n",
       "    .dataframe tbody tr th {\n",
       "        vertical-align: top;\n",
       "    }\n",
       "\n",
       "    .dataframe thead th {\n",
       "        text-align: right;\n",
       "    }\n",
       "</style>\n",
       "<table border=\"1\" class=\"dataframe\">\n",
       "  <thead>\n",
       "    <tr style=\"text-align: right;\">\n",
       "      <th></th>\n",
       "      <th>car</th>\n",
       "      <th>brand</th>\n",
       "      <th>cost</th>\n",
       "      <th>year</th>\n",
       "    </tr>\n",
       "  </thead>\n",
       "  <tbody>\n",
       "    <tr>\n",
       "      <th>0</th>\n",
       "      <td>city</td>\n",
       "      <td>Honda</td>\n",
       "      <td>900000</td>\n",
       "      <td>5</td>\n",
       "    </tr>\n",
       "    <tr>\n",
       "      <th>1</th>\n",
       "      <td>ignis</td>\n",
       "      <td>maruti</td>\n",
       "      <td>600000</td>\n",
       "      <td>7</td>\n",
       "    </tr>\n",
       "    <tr>\n",
       "      <th>2</th>\n",
       "      <td>toyota</td>\n",
       "      <td>Maruti</td>\n",
       "      <td>100000</td>\n",
       "      <td>10</td>\n",
       "    </tr>\n",
       "    <tr>\n",
       "      <th>3</th>\n",
       "      <td>Verna</td>\n",
       "      <td>Hyundia</td>\n",
       "      <td>800000</td>\n",
       "      <td>4</td>\n",
       "    </tr>\n",
       "    <tr>\n",
       "      <th>4</th>\n",
       "      <td>Venue</td>\n",
       "      <td>Hyundai</td>\n",
       "      <td>950000</td>\n",
       "      <td>2</td>\n",
       "    </tr>\n",
       "    <tr>\n",
       "      <th>5</th>\n",
       "      <td>Punto</td>\n",
       "      <td>Fiat</td>\n",
       "      <td>750000</td>\n",
       "      <td>6</td>\n",
       "    </tr>\n",
       "  </tbody>\n",
       "</table>\n",
       "</div>"
      ],
      "text/plain": [
       "      car    brand    cost  year\n",
       "0    city    Honda  900000     5\n",
       "1   ignis   maruti  600000     7\n",
       "2  toyota   Maruti  100000    10\n",
       "3   Verna  Hyundia  800000     4\n",
       "4   Venue  Hyundai  950000     2\n",
       "5   Punto     Fiat  750000     6"
      ]
     },
     "execution_count": 263,
     "metadata": {},
     "output_type": "execute_result"
    }
   ],
   "source": [
    "car_data.loc[car_data['car'] == '800', 'car'] = 'toyota'\n",
    "car_data"
   ]
  },
  {
   "cell_type": "markdown",
   "metadata": {
    "id": "kF7seCq7PdJT"
   },
   "source": [
    "10 - adding bool column has name \"less 700\" to know who is car cost less than 700000"
   ]
  },
  {
   "cell_type": "code",
   "execution_count": 264,
   "metadata": {
    "scrolled": true
   },
   "outputs": [
    {
     "data": {
      "text/html": [
       "<div>\n",
       "<style scoped>\n",
       "    .dataframe tbody tr th:only-of-type {\n",
       "        vertical-align: middle;\n",
       "    }\n",
       "\n",
       "    .dataframe tbody tr th {\n",
       "        vertical-align: top;\n",
       "    }\n",
       "\n",
       "    .dataframe thead th {\n",
       "        text-align: right;\n",
       "    }\n",
       "</style>\n",
       "<table border=\"1\" class=\"dataframe\">\n",
       "  <thead>\n",
       "    <tr style=\"text-align: right;\">\n",
       "      <th></th>\n",
       "      <th>car</th>\n",
       "      <th>brand</th>\n",
       "      <th>cost</th>\n",
       "      <th>year</th>\n",
       "      <th>less 700</th>\n",
       "    </tr>\n",
       "  </thead>\n",
       "  <tbody>\n",
       "    <tr>\n",
       "      <th>0</th>\n",
       "      <td>city</td>\n",
       "      <td>Honda</td>\n",
       "      <td>900000</td>\n",
       "      <td>5</td>\n",
       "      <td>True</td>\n",
       "    </tr>\n",
       "    <tr>\n",
       "      <th>1</th>\n",
       "      <td>ignis</td>\n",
       "      <td>maruti</td>\n",
       "      <td>600000</td>\n",
       "      <td>7</td>\n",
       "      <td>False</td>\n",
       "    </tr>\n",
       "    <tr>\n",
       "      <th>2</th>\n",
       "      <td>toyota</td>\n",
       "      <td>Maruti</td>\n",
       "      <td>100000</td>\n",
       "      <td>10</td>\n",
       "      <td>False</td>\n",
       "    </tr>\n",
       "    <tr>\n",
       "      <th>3</th>\n",
       "      <td>Verna</td>\n",
       "      <td>Hyundia</td>\n",
       "      <td>800000</td>\n",
       "      <td>4</td>\n",
       "      <td>True</td>\n",
       "    </tr>\n",
       "    <tr>\n",
       "      <th>4</th>\n",
       "      <td>Venue</td>\n",
       "      <td>Hyundai</td>\n",
       "      <td>950000</td>\n",
       "      <td>2</td>\n",
       "      <td>True</td>\n",
       "    </tr>\n",
       "    <tr>\n",
       "      <th>5</th>\n",
       "      <td>Punto</td>\n",
       "      <td>Fiat</td>\n",
       "      <td>750000</td>\n",
       "      <td>6</td>\n",
       "      <td>True</td>\n",
       "    </tr>\n",
       "  </tbody>\n",
       "</table>\n",
       "</div>"
      ],
      "text/plain": [
       "      car    brand    cost  year  less 700\n",
       "0    city    Honda  900000     5      True\n",
       "1   ignis   maruti  600000     7     False\n",
       "2  toyota   Maruti  100000    10     False\n",
       "3   Verna  Hyundia  800000     4      True\n",
       "4   Venue  Hyundai  950000     2      True\n",
       "5   Punto     Fiat  750000     6      True"
      ]
     },
     "execution_count": 264,
     "metadata": {},
     "output_type": "execute_result"
    }
   ],
   "source": [
    "car_data['less 700'] = car_data['cost'] > 700000\n",
    "car_data"
   ]
  },
  {
   "cell_type": "markdown",
   "metadata": {
    "id": "qcAsMeqVQA6i"
   },
   "source": [
    "11-drop year cloumn"
   ]
  },
  {
   "cell_type": "code",
   "execution_count": 265,
   "metadata": {},
   "outputs": [
    {
     "data": {
      "text/html": [
       "<div>\n",
       "<style scoped>\n",
       "    .dataframe tbody tr th:only-of-type {\n",
       "        vertical-align: middle;\n",
       "    }\n",
       "\n",
       "    .dataframe tbody tr th {\n",
       "        vertical-align: top;\n",
       "    }\n",
       "\n",
       "    .dataframe thead th {\n",
       "        text-align: right;\n",
       "    }\n",
       "</style>\n",
       "<table border=\"1\" class=\"dataframe\">\n",
       "  <thead>\n",
       "    <tr style=\"text-align: right;\">\n",
       "      <th></th>\n",
       "      <th>car</th>\n",
       "      <th>brand</th>\n",
       "      <th>cost</th>\n",
       "      <th>less 700</th>\n",
       "    </tr>\n",
       "  </thead>\n",
       "  <tbody>\n",
       "    <tr>\n",
       "      <th>0</th>\n",
       "      <td>city</td>\n",
       "      <td>Honda</td>\n",
       "      <td>900000</td>\n",
       "      <td>True</td>\n",
       "    </tr>\n",
       "    <tr>\n",
       "      <th>1</th>\n",
       "      <td>ignis</td>\n",
       "      <td>maruti</td>\n",
       "      <td>600000</td>\n",
       "      <td>False</td>\n",
       "    </tr>\n",
       "    <tr>\n",
       "      <th>2</th>\n",
       "      <td>toyota</td>\n",
       "      <td>Maruti</td>\n",
       "      <td>100000</td>\n",
       "      <td>False</td>\n",
       "    </tr>\n",
       "    <tr>\n",
       "      <th>3</th>\n",
       "      <td>Verna</td>\n",
       "      <td>Hyundia</td>\n",
       "      <td>800000</td>\n",
       "      <td>True</td>\n",
       "    </tr>\n",
       "    <tr>\n",
       "      <th>4</th>\n",
       "      <td>Venue</td>\n",
       "      <td>Hyundai</td>\n",
       "      <td>950000</td>\n",
       "      <td>True</td>\n",
       "    </tr>\n",
       "    <tr>\n",
       "      <th>5</th>\n",
       "      <td>Punto</td>\n",
       "      <td>Fiat</td>\n",
       "      <td>750000</td>\n",
       "      <td>True</td>\n",
       "    </tr>\n",
       "  </tbody>\n",
       "</table>\n",
       "</div>"
      ],
      "text/plain": [
       "      car    brand    cost  less 700\n",
       "0    city    Honda  900000      True\n",
       "1   ignis   maruti  600000     False\n",
       "2  toyota   Maruti  100000     False\n",
       "3   Verna  Hyundia  800000      True\n",
       "4   Venue  Hyundai  950000      True\n",
       "5   Punto     Fiat  750000      True"
      ]
     },
     "execution_count": 265,
     "metadata": {},
     "output_type": "execute_result"
    }
   ],
   "source": [
    "car_data_drop= car_data.drop(columns=['year'])\n",
    "car_data_drop"
   ]
  },
  {
   "cell_type": "markdown",
   "metadata": {
    "id": "7xpVkaTeRI8k"
   },
   "source": [
    "12- insert new column has name \"new year\" after column \"brand\" "
   ]
  },
  {
   "cell_type": "code",
   "execution_count": 266,
   "metadata": {},
   "outputs": [
    {
     "data": {
      "text/html": [
       "<div>\n",
       "<style scoped>\n",
       "    .dataframe tbody tr th:only-of-type {\n",
       "        vertical-align: middle;\n",
       "    }\n",
       "\n",
       "    .dataframe tbody tr th {\n",
       "        vertical-align: top;\n",
       "    }\n",
       "\n",
       "    .dataframe thead th {\n",
       "        text-align: right;\n",
       "    }\n",
       "</style>\n",
       "<table border=\"1\" class=\"dataframe\">\n",
       "  <thead>\n",
       "    <tr style=\"text-align: right;\">\n",
       "      <th></th>\n",
       "      <th>car</th>\n",
       "      <th>brand</th>\n",
       "      <th>new year</th>\n",
       "      <th>cost</th>\n",
       "      <th>year</th>\n",
       "      <th>less 700</th>\n",
       "    </tr>\n",
       "  </thead>\n",
       "  <tbody>\n",
       "    <tr>\n",
       "      <th>0</th>\n",
       "      <td>city</td>\n",
       "      <td>Honda</td>\n",
       "      <td>5</td>\n",
       "      <td>900000</td>\n",
       "      <td>5</td>\n",
       "      <td>True</td>\n",
       "    </tr>\n",
       "    <tr>\n",
       "      <th>1</th>\n",
       "      <td>ignis</td>\n",
       "      <td>maruti</td>\n",
       "      <td>7</td>\n",
       "      <td>600000</td>\n",
       "      <td>7</td>\n",
       "      <td>False</td>\n",
       "    </tr>\n",
       "    <tr>\n",
       "      <th>2</th>\n",
       "      <td>toyota</td>\n",
       "      <td>Maruti</td>\n",
       "      <td>NaN</td>\n",
       "      <td>100000</td>\n",
       "      <td>10</td>\n",
       "      <td>False</td>\n",
       "    </tr>\n",
       "    <tr>\n",
       "      <th>3</th>\n",
       "      <td>Verna</td>\n",
       "      <td>Hyundia</td>\n",
       "      <td>7</td>\n",
       "      <td>800000</td>\n",
       "      <td>4</td>\n",
       "      <td>True</td>\n",
       "    </tr>\n",
       "    <tr>\n",
       "      <th>4</th>\n",
       "      <td>Venue</td>\n",
       "      <td>Hyundai</td>\n",
       "      <td>5</td>\n",
       "      <td>950000</td>\n",
       "      <td>2</td>\n",
       "      <td>True</td>\n",
       "    </tr>\n",
       "    <tr>\n",
       "      <th>5</th>\n",
       "      <td>Punto</td>\n",
       "      <td>Fiat</td>\n",
       "      <td>NaN</td>\n",
       "      <td>750000</td>\n",
       "      <td>6</td>\n",
       "      <td>True</td>\n",
       "    </tr>\n",
       "  </tbody>\n",
       "</table>\n",
       "</div>"
      ],
      "text/plain": [
       "      car    brand new year    cost  year  less 700\n",
       "0    city    Honda        5  900000     5      True\n",
       "1   ignis   maruti        7  600000     7     False\n",
       "2  toyota   Maruti      NaN  100000    10     False\n",
       "3   Verna  Hyundia        7  800000     4      True\n",
       "4   Venue  Hyundai        5  950000     2      True\n",
       "5   Punto     Fiat      NaN  750000     6      True"
      ]
     },
     "execution_count": 266,
     "metadata": {},
     "output_type": "execute_result"
    }
   ],
   "source": [
    "car_data.insert(2, \"new year\", [5, 7, \"NaN\",7,5,\"NaN\"])\n",
    "car_data"
   ]
  },
  {
   "cell_type": "markdown",
   "metadata": {
    "id": "J5I4wysEV64x"
   },
   "source": [
    "13- using groupby to grouping year and use sum function to add cost for similarities "
   ]
  },
  {
   "cell_type": "code",
   "execution_count": 278,
   "metadata": {},
   "outputs": [
    {
     "data": {
      "text/plain": [
       "new year\n",
       "5      1850000\n",
       "7      1400000\n",
       "NaN     850000\n",
       "Name: cost, dtype: int64"
      ]
     },
     "execution_count": 278,
     "metadata": {},
     "output_type": "execute_result"
    }
   ],
   "source": [
    "#car_data.loc[car_data['year'] == 5,7\n",
    "car_data.loc[car_data['new year'] == 5, 'year'] = 7\n",
    "result = car_data.groupby('new year')['cost'].sum()\n",
    "#result.index.name = 'new year'\n",
    "result"
   ]
  }
 ],
 "metadata": {
  "colab": {
   "authorship_tag": "ABX9TyN0rNFPDeBKwu+hFtwXTxbY",
   "provenance": [
    {
     "file_id": "1XCZeiOS0yu6Zpi9sSNkpkxo09wtaXGsd",
     "timestamp": 1674858653072
    }
   ]
  },
  "kernelspec": {
   "display_name": "Python 3",
   "language": "python",
   "name": "python3"
  },
  "language_info": {
   "codemirror_mode": {
    "name": "ipython",
    "version": 3
   },
   "file_extension": ".py",
   "mimetype": "text/x-python",
   "name": "python",
   "nbconvert_exporter": "python",
   "pygments_lexer": "ipython3",
   "version": "3.8.8"
  }
 },
 "nbformat": 4,
 "nbformat_minor": 1
}
