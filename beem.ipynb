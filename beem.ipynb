{
 "cells": [
  {
   "cell_type": "code",
   "execution_count": 3,
   "id": "29080795",
   "metadata": {},
   "outputs": [
    {
     "name": "stdout",
     "output_type": "stream",
     "text": [
      "Beam Search: [(0, 0), (0, 1), (1, 1), (2, 1)]\n"
     ]
    }
   ],
   "source": [
    "from heapq import heappop, heappush\n",
    "\n",
    "def heuristic(a, b):\n",
    "    return abs(a[0] - b[0]) + abs(a[1] - b[1])\n",
    "\n",
    "def beam_search(graph, start, goal, beam_width):\n",
    "    open_list = [(heuristic(start, goal), start, [start])]\n",
    "\n",
    "    while open_list:\n",
    "        candidates = []\n",
    "        for _ in range(min(beam_width, len(open_list))):\n",
    "            f_score, current, path = heappop(open_list)\n",
    "            if current == goal:\n",
    "                return path\n",
    "            for neighbor in graph[current]:\n",
    "                new_path = path + [neighbor]\n",
    "                f_score = len(new_path) + heuristic(neighbor, goal)\n",
    "                heappush(candidates, (f_score, neighbor, new_path))\n",
    "        \n",
    "        open_list = candidates\n",
    "\n",
    "    return None\n",
    "\n",
    "graph = {\n",
    "    (0, 0): {(1, 0): 1, (0, 1): 1},\n",
    "    (1, 0): {(1, 1): 1, (0, 0): 1},\n",
    "    (0, 1): {(0, 0): 1, (1, 1): 1},\n",
    "    (1, 1): {(1, 0): 1, (0, 1): 1, (2, 1): 1},\n",
    "    (2, 1): {(1, 1): 1}\n",
    "}\n",
    "\n",
    "start = (0, 0)\n",
    "goal = (2, 1)\n",
    "beam_width = 2 \n",
    "\n",
    "path = beam_search(graph, start, goal, beam_width)\n",
    "\n",
    "print(\"Beam Search:\", path)\n"
   ]
  },
  {
   "cell_type": "code",
   "execution_count": null,
   "id": "7a4f94c7",
   "metadata": {},
   "outputs": [],
   "source": []
  }
 ],
 "metadata": {
  "kernelspec": {
   "display_name": "Python 3",
   "language": "python",
   "name": "python3"
  },
  "language_info": {
   "codemirror_mode": {
    "name": "ipython",
    "version": 3
   },
   "file_extension": ".py",
   "mimetype": "text/x-python",
   "name": "python",
   "nbconvert_exporter": "python",
   "pygments_lexer": "ipython3",
   "version": "3.8.8"
  }
 },
 "nbformat": 4,
 "nbformat_minor": 5
}
